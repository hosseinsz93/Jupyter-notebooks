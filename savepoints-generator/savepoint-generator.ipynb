{
 "cells": [
  {
   "cell_type": "markdown",
   "id": "4c4b6e08-3c01-4559-8fd8-f44702c7e350",
   "metadata": {},
   "source": [
    "# Savepoints\n",
    "This script is to generate savepoints file. You can give it each X, Y, and Z coordinates, and it will generate all point probes coming out of them."
   ]
  },
  {
   "cell_type": "code",
   "execution_count": null,
   "id": "ca3a954f-0590-43a5-a17c-380a9d37e751",
   "metadata": {},
   "outputs": [],
   "source": [
    "# Define the coordinates for X, Y, and Z\n",
    "x_coords = [0.41665, 1.24995, 2.08325]\n",
    "y_coords = [0.5, 0.67]\n",
    "z_coords = [2.5, 5, 7.5, 10]\n",
    "\n",
    "# Generate all possible combinations of X, Y, Z\n",
    "coordinates = [(x, y, z) for x in x_coords for y in y_coords for z in z_coords]\n",
    "\n",
    "# Prepare the content for the text file\n",
    "file_content = \"\\n\".join(f\"{x} {y} {z}\" for x, y, z in coordinates)\n",
    "\n",
    "# Define the file path\n",
    "file_path = \"./savepoints\"\n",
    "\n",
    "# Write the content to the text file\n",
    "with open(file_path, \"w\") as file:\n",
    "    file.write(file_content)\n",
    "\n",
    "file_path\n"
   ]
  }
 ],
 "metadata": {
  "kernelspec": {
   "display_name": "Python 3 (ipykernel)",
   "language": "python",
   "name": "python3"
  },
  "language_info": {
   "codemirror_mode": {
    "name": "ipython",
    "version": 3
   },
   "file_extension": ".py",
   "mimetype": "text/x-python",
   "name": "python",
   "nbconvert_exporter": "python",
   "pygments_lexer": "ipython3",
   "version": "3.12.7"
  }
 },
 "nbformat": 4,
 "nbformat_minor": 5
}
