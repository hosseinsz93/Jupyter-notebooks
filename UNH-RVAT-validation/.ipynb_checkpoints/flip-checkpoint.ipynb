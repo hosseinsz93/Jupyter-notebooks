{
 "cells": [
  {
   "cell_type": "markdown",
   "id": "ee02222f-5ebb-48cc-9724-61263e44af27",
   "metadata": {},
   "source": [
    "This script is to flip the columns of an excel file in case of need."
   ]
  },
  {
   "cell_type": "code",
   "execution_count": 8,
   "id": "3cd24bb5-1329-43ad-a02e-1b8509c2077c",
   "metadata": {},
   "outputs": [],
   "source": [
    "import pandas as pd\n",
    "\n",
    "# Load the Excel file\n",
    "data = pd.read_excel('Wake-1.0-test.xlsx')\n",
    "\n",
    "# Reverse the order of the desired column (e.g., Column B)\n",
    "data['mean_u_0'] = data['mean_u_0'][::-1].reset_index(drop=True)\n",
    "data['mean_u_125'] = data['mean_u_125'][::-1].reset_index(drop=True)\n",
    "data['mean_u_25'] = data['mean_u_25'][::-1].reset_index(drop=True)\n",
    "data['mean_u_375'] = data['mean_u_375'][::-1].reset_index(drop=True)\n",
    "data['mean_u_5'] = data['mean_u_5'][::-1].reset_index(drop=True)\n",
    "data['mean_u_625'] = data['mean_u_625'][::-1].reset_index(drop=True)\n",
    "\n",
    "data['k_0'] = data['k_0'][::-1].reset_index(drop=True)\n",
    "data['k_125'] = data['k_125'][::-1].reset_index(drop=True)\n",
    "data['k_25'] = data['k_25'][::-1].reset_index(drop=True)\n",
    "data['k_375'] = data['k_375'][::-1].reset_index(drop=True)\n",
    "data['k_5'] = data['k_5'][::-1].reset_index(drop=True)\n",
    "data['k_625'] = data['k_625'][::-1].reset_index(drop=True)\n",
    "\n",
    "# Save the updated DataFrame back to the original file\n",
    "data.to_excel('your_file.xlsx', index=False)"
   ]
  }
 ],
 "metadata": {
  "kernelspec": {
   "display_name": "Python 3 (ipykernel)",
   "language": "python",
   "name": "python3"
  },
  "language_info": {
   "codemirror_mode": {
    "name": "ipython",
    "version": 3
   },
   "file_extension": ".py",
   "mimetype": "text/x-python",
   "name": "python",
   "nbconvert_exporter": "python",
   "pygments_lexer": "ipython3",
   "version": "3.12.7"
  }
 },
 "nbformat": 4,
 "nbformat_minor": 5
}
