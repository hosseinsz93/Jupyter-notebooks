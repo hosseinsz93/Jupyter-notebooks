{
 "cells": [
  {
   "cell_type": "markdown",
   "id": "5676ba3c-18dd-4cd9-a06f-8f57cecbf9bc",
   "metadata": {},
   "source": [
    "# UNH RVAT validation study\n",
    "This script is to compare experimental results with LES. \n",
    "All the data should put into an excell file named \"Wake-1.0-test\". There should also be 1 sheet for experiments and other sheets for LES for each $z/H$."
   ]
  },
  {
   "cell_type": "code",
   "execution_count": null,
   "id": "9a7ed105-0b33-45d0-88cf-923a423ac287",
   "metadata": {},
   "outputs": [],
   "source": [
    "import numpy as np\n",
    "import pandas as pd\n",
    "import matplotlib.pyplot as plt\n",
    "from scipy.interpolate import interp1d\n",
    "\n",
    "# Set the font to Times New Roman\n",
    "plt.rcParams['font.family'] = 'Arial'\n",
    "plt.rcParams['font.size'] = 16  # Set global font size\n",
    "\n",
    "# Load Data from Excel File\n",
    "# Replace 'data.xlsx' with your Excel file name\n",
    "# Replace 'Experimental' and 'CFD' with your actual sheet names or column ranges\n",
    "file_path = 'Wake-1.0-test.xlsx'\n",
    "experimental_data = pd.read_excel(file_path, sheet_name='Wake-1.0-test')  # Adjust sheet_name\n",
    "cfd_data = pd.read_excel(file_path, sheet_name='LES625')  # Adjust sheet_name\n",
    "\n",
    "# Extract Data from DataFrames\n",
    "experimental_x = experimental_data['y/R'].values  # Replace 'x' with the actual column name for x-values\n",
    "experimental_y = experimental_data['mean_u_625'].values  # Replace 'y' with the actual column name for y-values\n",
    "\n",
    "cfd_x = np.linspace(-3, 3, np.size(cfd_data['U'].values))  # Replace 'x' with the actual column name for x-values\n",
    "cfd_y = cfd_data['U'].values  # Replace 'y' with the actual column name for y-values\n",
    "\n",
    "# Plot Both Datasets\n",
    "plt.figure(figsize=(10, 6))\n",
    "plt.plot(cfd_x, cfd_y, label='LES', alpha=0.5, color='blue')\n",
    "plt.scatter(experimental_x, experimental_y, label='Experiment', color='red', zorder=5)\n",
    "\n",
    "# Plot Formatting\n",
    "plt.title('$z/H=0.625$')\n",
    "plt.xlabel('$y/R$')\n",
    "plt.ylabel('$U/U_{\\infty}$')\n",
    "plt.legend()\n",
    "plt.grid(True)\n",
    "\n",
    "# Save and display the plot\n",
    "plt.savefig(\"z_h625\", dpi=300, bbox_inches='tight')\n",
    "plt.show()\n"
   ]
  },
  {
   "cell_type": "code",
   "execution_count": null,
   "id": "e59d322c-4ae6-48fc-bab2-deafc0115bc5",
   "metadata": {},
   "outputs": [],
   "source": [
    "import numpy as np\n",
    "import pandas as pd\n",
    "import matplotlib.pyplot as plt\n",
    "from scipy.interpolate import interp1d\n",
    "\n",
    "# Set the font to Times New Roman\n",
    "plt.rcParams['font.family'] = 'Arial'\n",
    "plt.rcParams['font.size'] = 16  # Set global font size\n",
    "\n",
    "# Load Data from Excel File\n",
    "# Replace 'data.xlsx' with your Excel file name\n",
    "# Replace 'Experimental' and 'CFD' with your actual sheet names or column ranges\n",
    "file_path = 'Wake-1.0-test.xlsx'\n",
    "experimental_data = pd.read_excel(file_path, sheet_name='Wake-1.0-test')  # Adjust sheet_name\n",
    "cfd_data = pd.read_excel(file_path, sheet_name='LES0')  # Adjust sheet_name\n",
    "\n",
    "# Extract Data from DataFrames\n",
    "experimental_x = experimental_data['y/R'].values  # Replace 'x' with the actual column name for x-values\n",
    "experimental_y = experimental_data['k_0'].values  # Replace 'y' with the actual column name for y-values\n",
    "\n",
    "cfd_x = np.linspace(-3, 3, np.size(cfd_data['K'].values))  # Replace 'x' with the actual column name for x-values\n",
    "cfd_y = cfd_data['K'].values  # Replace 'y' with the actual column name for y-values\n",
    "\n",
    "# Plot Both Datasets\n",
    "plt.figure(figsize=(10, 6))\n",
    "plt.plot(cfd_x, cfd_y, label='LES', alpha=0.5, color='blue')\n",
    "plt.scatter(experimental_x, experimental_y, label='Experiment', color='red', zorder=5)\n",
    "\n",
    "# Plot Formatting\n",
    "plt.title('$z/H=0$')\n",
    "plt.xlabel('$y/R$')\n",
    "plt.ylabel('$k/U_{\\infty}^2$')\n",
    "plt.legend()\n",
    "plt.grid(True)\n",
    "\n",
    "# Save and display the plot\n",
    "plt.savefig(\"k_z_0\", dpi=300, bbox_inches='tight')\n",
    "plt.show()\n"
   ]
  },
  {
   "cell_type": "code",
   "execution_count": null,
   "id": "ee834506-52e5-4dd3-8e9d-7a4d6f9dbd6b",
   "metadata": {},
   "outputs": [],
   "source": []
  }
 ],
 "metadata": {
  "kernelspec": {
   "display_name": "Python 3 (ipykernel)",
   "language": "python",
   "name": "python3"
  },
  "language_info": {
   "codemirror_mode": {
    "name": "ipython",
    "version": 3
   },
   "file_extension": ".py",
   "mimetype": "text/x-python",
   "name": "python",
   "nbconvert_exporter": "python",
   "pygments_lexer": "ipython3",
   "version": "3.12.7"
  }
 },
 "nbformat": 4,
 "nbformat_minor": 5
}
